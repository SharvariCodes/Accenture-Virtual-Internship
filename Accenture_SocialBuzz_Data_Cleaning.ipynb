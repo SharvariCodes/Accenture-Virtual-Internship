{
  "nbformat": 4,
  "nbformat_minor": 0,
  "metadata": {
    "colab": {
      "provenance": [],
      "authorship_tag": "ABX9TyN5kI5HD2Jae0cMpAlqG+ma",
      "include_colab_link": true
    },
    "kernelspec": {
      "name": "python3",
      "display_name": "Python 3"
    },
    "language_info": {
      "name": "python"
    }
  },
  "cells": [
    {
      "cell_type": "markdown",
      "metadata": {
        "id": "view-in-github",
        "colab_type": "text"
      },
      "source": [
        "<a href=\"https://colab.research.google.com/github/SharvariCodes/Accenture-Virtual-Internship/blob/main/Accenture_SocialBuzz_Data_Cleaning.ipynb\" target=\"_parent\"><img src=\"https://colab.research.google.com/assets/colab-badge.svg\" alt=\"Open In Colab\"/></a>"
      ]
    },
    {
      "cell_type": "code",
      "execution_count": null,
      "metadata": {
        "id": "G4wQqOlVkZTX"
      },
      "outputs": [],
      "source": [
        "import pandas as pd"
      ]
    },
    {
      "cell_type": "code",
      "source": [
        "content = pd.read_csv('Content.csv')\n",
        "reaction_types = pd.read_csv('ReactionTypes.csv')\n",
        "reaction = pd.read_csv('Reactions.csv')"
      ],
      "metadata": {
        "id": "zjvrkkJXk6m8"
      },
      "execution_count": null,
      "outputs": []
    },
    {
      "cell_type": "code",
      "source": [
        "content.shape"
      ],
      "metadata": {
        "colab": {
          "base_uri": "https://localhost:8080/"
        },
        "id": "UFsR4PTyl_gl",
        "outputId": "b3f92291-45e2-4a9d-d4b5-dce73ad6892a"
      },
      "execution_count": null,
      "outputs": [
        {
          "output_type": "execute_result",
          "data": {
            "text/plain": [
              "(1000, 6)"
            ]
          },
          "metadata": {},
          "execution_count": 6
        }
      ]
    },
    {
      "cell_type": "code",
      "source": [
        "content.isna().sum()"
      ],
      "metadata": {
        "colab": {
          "base_uri": "https://localhost:8080/"
        },
        "id": "_HQMurEilRhC",
        "outputId": "8dd716aa-c5dd-4fab-b1f0-56acdfde98f1"
      },
      "execution_count": null,
      "outputs": [
        {
          "output_type": "execute_result",
          "data": {
            "text/plain": [
              "Unnamed: 0      0\n",
              "Content ID      0\n",
              "User ID         0\n",
              "Type            0\n",
              "Category        0\n",
              "URL           199\n",
              "dtype: int64"
            ]
          },
          "metadata": {},
          "execution_count": 7
        }
      ]
    },
    {
      "cell_type": "code",
      "source": [
        "reaction_types.isna().sum()"
      ],
      "metadata": {
        "colab": {
          "base_uri": "https://localhost:8080/"
        },
        "id": "btZtstaWlaQa",
        "outputId": "d379f9e3-84ed-4a00-e546-728b6822d665"
      },
      "execution_count": null,
      "outputs": [
        {
          "output_type": "execute_result",
          "data": {
            "text/plain": [
              "Unnamed: 0    0\n",
              "Type          0\n",
              "Sentiment     0\n",
              "Score         0\n",
              "dtype: int64"
            ]
          },
          "metadata": {},
          "execution_count": 8
        }
      ]
    },
    {
      "cell_type": "code",
      "source": [
        "reaction.isna().sum()"
      ],
      "metadata": {
        "colab": {
          "base_uri": "https://localhost:8080/"
        },
        "id": "pQcjm9PVld_Z",
        "outputId": "73b5d39a-a753-499c-e67e-c8afede2d9d3"
      },
      "execution_count": null,
      "outputs": [
        {
          "output_type": "execute_result",
          "data": {
            "text/plain": [
              "Unnamed: 0       0\n",
              "Content ID       1\n",
              "User ID       2507\n",
              "Type           820\n",
              "Datetime         1\n",
              "dtype: int64"
            ]
          },
          "metadata": {},
          "execution_count": 9
        }
      ]
    },
    {
      "cell_type": "code",
      "source": [
        "content = content.dropna(axis=0)"
      ],
      "metadata": {
        "id": "qH6fxYRfljFI"
      },
      "execution_count": null,
      "outputs": []
    },
    {
      "cell_type": "code",
      "source": [
        "reaction = reaction.dropna(axis=0)"
      ],
      "metadata": {
        "id": "KDmlKN5jl9Vp"
      },
      "execution_count": null,
      "outputs": []
    },
    {
      "cell_type": "code",
      "source": [
        "content.isna().sum()"
      ],
      "metadata": {
        "colab": {
          "base_uri": "https://localhost:8080/"
        },
        "id": "d3rrEYyOmZ0y",
        "outputId": "95123acc-2980-48b9-da20-e98401e94a6c"
      },
      "execution_count": null,
      "outputs": [
        {
          "output_type": "execute_result",
          "data": {
            "text/plain": [
              "Unnamed: 0    0\n",
              "Content ID    0\n",
              "User ID       0\n",
              "Type          0\n",
              "Category      0\n",
              "URL           0\n",
              "dtype: int64"
            ]
          },
          "metadata": {},
          "execution_count": 12
        }
      ]
    },
    {
      "cell_type": "code",
      "source": [
        "reaction.isna().sum()"
      ],
      "metadata": {
        "colab": {
          "base_uri": "https://localhost:8080/"
        },
        "id": "MdMKVdjLmkHI",
        "outputId": "73c91480-3e65-45d3-a065-a048e2716dc9"
      },
      "execution_count": null,
      "outputs": [
        {
          "output_type": "execute_result",
          "data": {
            "text/plain": [
              "Unnamed: 0    0\n",
              "Content ID    0\n",
              "User ID       0\n",
              "Type          0\n",
              "Datetime      0\n",
              "dtype: int64"
            ]
          },
          "metadata": {},
          "execution_count": 13
        }
      ]
    },
    {
      "cell_type": "code",
      "source": [
        "content.columns"
      ],
      "metadata": {
        "colab": {
          "base_uri": "https://localhost:8080/"
        },
        "id": "rsl7BN_6mm75",
        "outputId": "6deaf3e1-abe4-4fc1-c05c-08cbdb857dda"
      },
      "execution_count": null,
      "outputs": [
        {
          "output_type": "execute_result",
          "data": {
            "text/plain": [
              "Index(['Unnamed: 0', 'Content ID', 'User ID', 'Type', 'Category', 'URL'], dtype='object')"
            ]
          },
          "metadata": {},
          "execution_count": 14
        }
      ]
    },
    {
      "cell_type": "code",
      "source": [
        "content['URL']"
      ],
      "metadata": {
        "colab": {
          "base_uri": "https://localhost:8080/"
        },
        "id": "gbJAFJ5LmqYg",
        "outputId": "cf50e75a-fcf9-4fcf-b281-9c995866b7de"
      },
      "execution_count": null,
      "outputs": [
        {
          "output_type": "execute_result",
          "data": {
            "text/plain": [
              "0      https://socialbuzz.cdn.com/content/storage/975...\n",
              "1      https://socialbuzz.cdn.com/content/storage/9f7...\n",
              "2      https://socialbuzz.cdn.com/content/storage/230...\n",
              "3      https://socialbuzz.cdn.com/content/storage/356...\n",
              "4      https://socialbuzz.cdn.com/content/storage/01a...\n",
              "                             ...                        \n",
              "994    https://socialbuzz.cdn.com/content/storage/c54...\n",
              "996    https://socialbuzz.cdn.com/content/storage/7a7...\n",
              "997    https://socialbuzz.cdn.com/content/storage/435...\n",
              "998    https://socialbuzz.cdn.com/content/storage/4e4...\n",
              "999    https://socialbuzz.cdn.com/content/storage/75d...\n",
              "Name: URL, Length: 801, dtype: object"
            ]
          },
          "metadata": {},
          "execution_count": 15
        }
      ]
    },
    {
      "cell_type": "code",
      "source": [
        "content = content.drop(['URL'], axis=1)"
      ],
      "metadata": {
        "id": "bZs5puH6nCh5"
      },
      "execution_count": null,
      "outputs": []
    },
    {
      "cell_type": "code",
      "source": [
        "content = content.drop(['Unnamed: 0'], axis=1)"
      ],
      "metadata": {
        "id": "yLEcwWqjnlMB"
      },
      "execution_count": null,
      "outputs": []
    },
    {
      "cell_type": "code",
      "source": [
        "content = content.drop(['User ID'], axis=1)"
      ],
      "metadata": {
        "id": "hMrVEa2P3pIX"
      },
      "execution_count": null,
      "outputs": []
    },
    {
      "cell_type": "code",
      "source": [
        "reaction_types.columns"
      ],
      "metadata": {
        "colab": {
          "base_uri": "https://localhost:8080/"
        },
        "id": "Xy0mI4O-nzUx",
        "outputId": "a47223e8-7c88-470b-d826-db4c72d68633"
      },
      "execution_count": null,
      "outputs": [
        {
          "output_type": "execute_result",
          "data": {
            "text/plain": [
              "Index(['Unnamed: 0', 'Type', 'Sentiment', 'Score'], dtype='object')"
            ]
          },
          "metadata": {},
          "execution_count": 19
        }
      ]
    },
    {
      "cell_type": "code",
      "source": [
        "reaction_types = reaction_types.drop(['Unnamed: 0'], axis=1)"
      ],
      "metadata": {
        "id": "1lUrantVoCkA"
      },
      "execution_count": null,
      "outputs": []
    },
    {
      "cell_type": "code",
      "source": [
        "reaction.columns"
      ],
      "metadata": {
        "colab": {
          "base_uri": "https://localhost:8080/"
        },
        "id": "dE15dIzyoYq4",
        "outputId": "16768db1-9096-421f-b7ca-477dafe3bd7d"
      },
      "execution_count": null,
      "outputs": [
        {
          "output_type": "execute_result",
          "data": {
            "text/plain": [
              "Index(['Unnamed: 0', 'Content ID', 'User ID', 'Type', 'Datetime'], dtype='object')"
            ]
          },
          "metadata": {},
          "execution_count": 21
        }
      ]
    },
    {
      "cell_type": "code",
      "source": [
        "reaction = reaction.drop(['Unnamed: 0'], axis=1)"
      ],
      "metadata": {
        "id": "H23xZE8jqPr5"
      },
      "execution_count": null,
      "outputs": []
    },
    {
      "cell_type": "code",
      "source": [
        "reaction = reaction.drop(['User ID'], axis=1)"
      ],
      "metadata": {
        "id": "hqOZfkZNrFHQ"
      },
      "execution_count": null,
      "outputs": []
    },
    {
      "cell_type": "code",
      "source": [
        "for i in content['Category']:\n",
        "    if '\"' in i:\n",
        "        print(i)"
      ],
      "metadata": {
        "id": "QtN8Uk4AvgvH"
      },
      "execution_count": null,
      "outputs": []
    },
    {
      "cell_type": "code",
      "source": [
        "reaction.columns"
      ],
      "metadata": {
        "colab": {
          "base_uri": "https://localhost:8080/"
        },
        "id": "Bjejhi0aNewu",
        "outputId": "630c02b6-4d72-40f6-fd88-665562b2b8ff"
      },
      "execution_count": null,
      "outputs": [
        {
          "output_type": "execute_result",
          "data": {
            "text/plain": [
              "Index(['Content ID', 'Type', 'Datetime'], dtype='object')"
            ]
          },
          "metadata": {},
          "execution_count": 25
        }
      ]
    },
    {
      "cell_type": "code",
      "source": [
        "reaction_types.columns"
      ],
      "metadata": {
        "colab": {
          "base_uri": "https://localhost:8080/"
        },
        "id": "tt3BXtqcNevH",
        "outputId": "1d2c3851-403d-4cda-91ff-0bbac1d9bb00"
      },
      "execution_count": null,
      "outputs": [
        {
          "output_type": "execute_result",
          "data": {
            "text/plain": [
              "Index(['Type', 'Sentiment', 'Score'], dtype='object')"
            ]
          },
          "metadata": {},
          "execution_count": 26
        }
      ]
    },
    {
      "cell_type": "code",
      "source": [
        "content.columns"
      ],
      "metadata": {
        "colab": {
          "base_uri": "https://localhost:8080/"
        },
        "id": "1S8-9wwANepP",
        "outputId": "47f51724-7147-4636-a3ed-a497f394bad3"
      },
      "execution_count": null,
      "outputs": [
        {
          "output_type": "execute_result",
          "data": {
            "text/plain": [
              "Index(['Content ID', 'Type', 'Category'], dtype='object')"
            ]
          },
          "metadata": {},
          "execution_count": 27
        }
      ]
    },
    {
      "cell_type": "code",
      "source": [
        "content = content.rename(columns={'Type':'Content Type'})"
      ],
      "metadata": {
        "id": "Ygsk8YrdeVDN"
      },
      "execution_count": null,
      "outputs": []
    },
    {
      "cell_type": "code",
      "source": [
        "reaction = reaction.rename(columns={'Type':'Reaction Type'})"
      ],
      "metadata": {
        "id": "rpxTtFL2e2US"
      },
      "execution_count": null,
      "outputs": []
    },
    {
      "cell_type": "code",
      "source": [
        "reaction_types = reaction_types.rename(columns={'Type':'Reaction Type'})"
      ],
      "metadata": {
        "id": "_WKB96o6e2Ij"
      },
      "execution_count": null,
      "outputs": []
    },
    {
      "cell_type": "code",
      "source": [
        "dataset = content.merge(reaction, how='inner', left_on='Content ID', right_on='Content ID')"
      ],
      "metadata": {
        "id": "Drh6r_LDNehm"
      },
      "execution_count": null,
      "outputs": []
    },
    {
      "cell_type": "code",
      "source": [
        "dataset"
      ],
      "metadata": {
        "colab": {
          "base_uri": "https://localhost:8080/",
          "height": 423
        },
        "id": "qouXkw8cfQtL",
        "outputId": "003e097f-55e3-43fe-fa1f-0b93b1e0a1b8"
      },
      "execution_count": null,
      "outputs": [
        {
          "output_type": "execute_result",
          "data": {
            "text/plain": [
              "                                 Content ID Content Type  Category  \\\n",
              "0      97522e57-d9ab-4bd6-97bf-c24d952602d2        photo  Studying   \n",
              "1      97522e57-d9ab-4bd6-97bf-c24d952602d2        photo  Studying   \n",
              "2      97522e57-d9ab-4bd6-97bf-c24d952602d2        photo  Studying   \n",
              "3      97522e57-d9ab-4bd6-97bf-c24d952602d2        photo  Studying   \n",
              "4      97522e57-d9ab-4bd6-97bf-c24d952602d2        photo  Studying   \n",
              "...                                     ...          ...       ...   \n",
              "15247  09f2e925-5086-42ad-8160-e763396a36ca        audio      dogs   \n",
              "15248  09f2e925-5086-42ad-8160-e763396a36ca        audio      dogs   \n",
              "15249  09f2e925-5086-42ad-8160-e763396a36ca        audio      dogs   \n",
              "15250  09f2e925-5086-42ad-8160-e763396a36ca        audio      dogs   \n",
              "15251  09f2e925-5086-42ad-8160-e763396a36ca        audio      dogs   \n",
              "\n",
              "      Reaction Type         Datetime  \n",
              "0           disgust   11/7/2020 9:43  \n",
              "1           dislike  6/17/2021 12:22  \n",
              "2            scared   4/18/2021 5:13  \n",
              "3           disgust   1/6/2021 19:13  \n",
              "4        interested  8/23/2020 12:25  \n",
              "...             ...              ...  \n",
              "15247    super love   8/18/2020 0:56  \n",
              "15248       cherish    2/6/2021 4:44  \n",
              "15249     intrigued   5/23/2021 2:24  \n",
              "15250         adore   9/7/2020 11:06  \n",
              "15251          hate   12/9/2020 8:47  \n",
              "\n",
              "[15252 rows x 5 columns]"
            ],
            "text/html": [
              "\n",
              "  <div id=\"df-3cc4313b-c962-435e-a26c-4e9f5b17ff8a\">\n",
              "    <div class=\"colab-df-container\">\n",
              "      <div>\n",
              "<style scoped>\n",
              "    .dataframe tbody tr th:only-of-type {\n",
              "        vertical-align: middle;\n",
              "    }\n",
              "\n",
              "    .dataframe tbody tr th {\n",
              "        vertical-align: top;\n",
              "    }\n",
              "\n",
              "    .dataframe thead th {\n",
              "        text-align: right;\n",
              "    }\n",
              "</style>\n",
              "<table border=\"1\" class=\"dataframe\">\n",
              "  <thead>\n",
              "    <tr style=\"text-align: right;\">\n",
              "      <th></th>\n",
              "      <th>Content ID</th>\n",
              "      <th>Content Type</th>\n",
              "      <th>Category</th>\n",
              "      <th>Reaction Type</th>\n",
              "      <th>Datetime</th>\n",
              "    </tr>\n",
              "  </thead>\n",
              "  <tbody>\n",
              "    <tr>\n",
              "      <th>0</th>\n",
              "      <td>97522e57-d9ab-4bd6-97bf-c24d952602d2</td>\n",
              "      <td>photo</td>\n",
              "      <td>Studying</td>\n",
              "      <td>disgust</td>\n",
              "      <td>11/7/2020 9:43</td>\n",
              "    </tr>\n",
              "    <tr>\n",
              "      <th>1</th>\n",
              "      <td>97522e57-d9ab-4bd6-97bf-c24d952602d2</td>\n",
              "      <td>photo</td>\n",
              "      <td>Studying</td>\n",
              "      <td>dislike</td>\n",
              "      <td>6/17/2021 12:22</td>\n",
              "    </tr>\n",
              "    <tr>\n",
              "      <th>2</th>\n",
              "      <td>97522e57-d9ab-4bd6-97bf-c24d952602d2</td>\n",
              "      <td>photo</td>\n",
              "      <td>Studying</td>\n",
              "      <td>scared</td>\n",
              "      <td>4/18/2021 5:13</td>\n",
              "    </tr>\n",
              "    <tr>\n",
              "      <th>3</th>\n",
              "      <td>97522e57-d9ab-4bd6-97bf-c24d952602d2</td>\n",
              "      <td>photo</td>\n",
              "      <td>Studying</td>\n",
              "      <td>disgust</td>\n",
              "      <td>1/6/2021 19:13</td>\n",
              "    </tr>\n",
              "    <tr>\n",
              "      <th>4</th>\n",
              "      <td>97522e57-d9ab-4bd6-97bf-c24d952602d2</td>\n",
              "      <td>photo</td>\n",
              "      <td>Studying</td>\n",
              "      <td>interested</td>\n",
              "      <td>8/23/2020 12:25</td>\n",
              "    </tr>\n",
              "    <tr>\n",
              "      <th>...</th>\n",
              "      <td>...</td>\n",
              "      <td>...</td>\n",
              "      <td>...</td>\n",
              "      <td>...</td>\n",
              "      <td>...</td>\n",
              "    </tr>\n",
              "    <tr>\n",
              "      <th>15247</th>\n",
              "      <td>09f2e925-5086-42ad-8160-e763396a36ca</td>\n",
              "      <td>audio</td>\n",
              "      <td>dogs</td>\n",
              "      <td>super love</td>\n",
              "      <td>8/18/2020 0:56</td>\n",
              "    </tr>\n",
              "    <tr>\n",
              "      <th>15248</th>\n",
              "      <td>09f2e925-5086-42ad-8160-e763396a36ca</td>\n",
              "      <td>audio</td>\n",
              "      <td>dogs</td>\n",
              "      <td>cherish</td>\n",
              "      <td>2/6/2021 4:44</td>\n",
              "    </tr>\n",
              "    <tr>\n",
              "      <th>15249</th>\n",
              "      <td>09f2e925-5086-42ad-8160-e763396a36ca</td>\n",
              "      <td>audio</td>\n",
              "      <td>dogs</td>\n",
              "      <td>intrigued</td>\n",
              "      <td>5/23/2021 2:24</td>\n",
              "    </tr>\n",
              "    <tr>\n",
              "      <th>15250</th>\n",
              "      <td>09f2e925-5086-42ad-8160-e763396a36ca</td>\n",
              "      <td>audio</td>\n",
              "      <td>dogs</td>\n",
              "      <td>adore</td>\n",
              "      <td>9/7/2020 11:06</td>\n",
              "    </tr>\n",
              "    <tr>\n",
              "      <th>15251</th>\n",
              "      <td>09f2e925-5086-42ad-8160-e763396a36ca</td>\n",
              "      <td>audio</td>\n",
              "      <td>dogs</td>\n",
              "      <td>hate</td>\n",
              "      <td>12/9/2020 8:47</td>\n",
              "    </tr>\n",
              "  </tbody>\n",
              "</table>\n",
              "<p>15252 rows × 5 columns</p>\n",
              "</div>\n",
              "      <button class=\"colab-df-convert\" onclick=\"convertToInteractive('df-3cc4313b-c962-435e-a26c-4e9f5b17ff8a')\"\n",
              "              title=\"Convert this dataframe to an interactive table.\"\n",
              "              style=\"display:none;\">\n",
              "        \n",
              "  <svg xmlns=\"http://www.w3.org/2000/svg\" height=\"24px\"viewBox=\"0 0 24 24\"\n",
              "       width=\"24px\">\n",
              "    <path d=\"M0 0h24v24H0V0z\" fill=\"none\"/>\n",
              "    <path d=\"M18.56 5.44l.94 2.06.94-2.06 2.06-.94-2.06-.94-.94-2.06-.94 2.06-2.06.94zm-11 1L8.5 8.5l.94-2.06 2.06-.94-2.06-.94L8.5 2.5l-.94 2.06-2.06.94zm10 10l.94 2.06.94-2.06 2.06-.94-2.06-.94-.94-2.06-.94 2.06-2.06.94z\"/><path d=\"M17.41 7.96l-1.37-1.37c-.4-.4-.92-.59-1.43-.59-.52 0-1.04.2-1.43.59L10.3 9.45l-7.72 7.72c-.78.78-.78 2.05 0 2.83L4 21.41c.39.39.9.59 1.41.59.51 0 1.02-.2 1.41-.59l7.78-7.78 2.81-2.81c.8-.78.8-2.07 0-2.86zM5.41 20L4 18.59l7.72-7.72 1.47 1.35L5.41 20z\"/>\n",
              "  </svg>\n",
              "      </button>\n",
              "      \n",
              "  <style>\n",
              "    .colab-df-container {\n",
              "      display:flex;\n",
              "      flex-wrap:wrap;\n",
              "      gap: 12px;\n",
              "    }\n",
              "\n",
              "    .colab-df-convert {\n",
              "      background-color: #E8F0FE;\n",
              "      border: none;\n",
              "      border-radius: 50%;\n",
              "      cursor: pointer;\n",
              "      display: none;\n",
              "      fill: #1967D2;\n",
              "      height: 32px;\n",
              "      padding: 0 0 0 0;\n",
              "      width: 32px;\n",
              "    }\n",
              "\n",
              "    .colab-df-convert:hover {\n",
              "      background-color: #E2EBFA;\n",
              "      box-shadow: 0px 1px 2px rgba(60, 64, 67, 0.3), 0px 1px 3px 1px rgba(60, 64, 67, 0.15);\n",
              "      fill: #174EA6;\n",
              "    }\n",
              "\n",
              "    [theme=dark] .colab-df-convert {\n",
              "      background-color: #3B4455;\n",
              "      fill: #D2E3FC;\n",
              "    }\n",
              "\n",
              "    [theme=dark] .colab-df-convert:hover {\n",
              "      background-color: #434B5C;\n",
              "      box-shadow: 0px 1px 3px 1px rgba(0, 0, 0, 0.15);\n",
              "      filter: drop-shadow(0px 1px 2px rgba(0, 0, 0, 0.3));\n",
              "      fill: #FFFFFF;\n",
              "    }\n",
              "  </style>\n",
              "\n",
              "      <script>\n",
              "        const buttonEl =\n",
              "          document.querySelector('#df-3cc4313b-c962-435e-a26c-4e9f5b17ff8a button.colab-df-convert');\n",
              "        buttonEl.style.display =\n",
              "          google.colab.kernel.accessAllowed ? 'block' : 'none';\n",
              "\n",
              "        async function convertToInteractive(key) {\n",
              "          const element = document.querySelector('#df-3cc4313b-c962-435e-a26c-4e9f5b17ff8a');\n",
              "          const dataTable =\n",
              "            await google.colab.kernel.invokeFunction('convertToInteractive',\n",
              "                                                     [key], {});\n",
              "          if (!dataTable) return;\n",
              "\n",
              "          const docLinkHtml = 'Like what you see? Visit the ' +\n",
              "            '<a target=\"_blank\" href=https://colab.research.google.com/notebooks/data_table.ipynb>data table notebook</a>'\n",
              "            + ' to learn more about interactive tables.';\n",
              "          element.innerHTML = '';\n",
              "          dataTable['output_type'] = 'display_data';\n",
              "          await google.colab.output.renderOutput(dataTable, element);\n",
              "          const docLink = document.createElement('div');\n",
              "          docLink.innerHTML = docLinkHtml;\n",
              "          element.appendChild(docLink);\n",
              "        }\n",
              "      </script>\n",
              "    </div>\n",
              "  </div>\n",
              "  "
            ]
          },
          "metadata": {},
          "execution_count": 32
        }
      ]
    },
    {
      "cell_type": "code",
      "source": [
        "dataset = dataset.merge(reaction_types, how='inner', left_on='Reaction Type', right_on='Reaction Type')"
      ],
      "metadata": {
        "id": "4_w9Sj7MS-uo"
      },
      "execution_count": null,
      "outputs": []
    },
    {
      "cell_type": "code",
      "source": [
        "dataset"
      ],
      "metadata": {
        "colab": {
          "base_uri": "https://localhost:8080/",
          "height": 658
        },
        "id": "S3gf9jH6UMSk",
        "outputId": "3116b1d6-692b-47a2-b941-36aee61e5320"
      },
      "execution_count": null,
      "outputs": [
        {
          "output_type": "execute_result",
          "data": {
            "text/plain": [
              "                                 Content ID Content Type        Category  \\\n",
              "0      97522e57-d9ab-4bd6-97bf-c24d952602d2        photo        Studying   \n",
              "1      97522e57-d9ab-4bd6-97bf-c24d952602d2        photo        Studying   \n",
              "2      97522e57-d9ab-4bd6-97bf-c24d952602d2        photo        Studying   \n",
              "3      9f737e0a-3cdd-4d29-9d24-753f4e3be810        photo  healthy eating   \n",
              "4      230c4e4d-70c3-461d-b42c-ec09396efb3f        photo  healthy eating   \n",
              "...                                     ...          ...             ...   \n",
              "15247  c75dfa33-cd71-486f-b4e1-f5e9133ae873        photo        veganism   \n",
              "15248  c75dfa33-cd71-486f-b4e1-f5e9133ae873        photo        veganism   \n",
              "15249  40727608-362e-4e10-970f-2b5a5f8c37c1        photo         science   \n",
              "15250  09f2e925-5086-42ad-8160-e763396a36ca        audio            dogs   \n",
              "15251  09f2e925-5086-42ad-8160-e763396a36ca        audio            dogs   \n",
              "\n",
              "      Reaction Type          Datetime Sentiment  Score  \n",
              "0           disgust    11/7/2020 9:43  negative      0  \n",
              "1           disgust    1/6/2021 19:13  negative      0  \n",
              "2           disgust     4/9/2021 2:46  negative      0  \n",
              "3           disgust   3/28/2021 21:15  negative      0  \n",
              "4           disgust     8/4/2020 5:40  negative      0  \n",
              "...             ...               ...       ...    ...  \n",
              "15247         adore   1/12/2021 23:45  positive     72  \n",
              "15248         adore    7/15/2020 9:49  positive     72  \n",
              "15249         adore  12/15/2020 17:11  positive     72  \n",
              "15250         adore     9/5/2020 5:03  positive     72  \n",
              "15251         adore    9/7/2020 11:06  positive     72  \n",
              "\n",
              "[15252 rows x 7 columns]"
            ],
            "text/html": [
              "\n",
              "  <div id=\"df-99b76a75-dd5a-448b-a0cb-5c21cf684275\">\n",
              "    <div class=\"colab-df-container\">\n",
              "      <div>\n",
              "<style scoped>\n",
              "    .dataframe tbody tr th:only-of-type {\n",
              "        vertical-align: middle;\n",
              "    }\n",
              "\n",
              "    .dataframe tbody tr th {\n",
              "        vertical-align: top;\n",
              "    }\n",
              "\n",
              "    .dataframe thead th {\n",
              "        text-align: right;\n",
              "    }\n",
              "</style>\n",
              "<table border=\"1\" class=\"dataframe\">\n",
              "  <thead>\n",
              "    <tr style=\"text-align: right;\">\n",
              "      <th></th>\n",
              "      <th>Content ID</th>\n",
              "      <th>Content Type</th>\n",
              "      <th>Category</th>\n",
              "      <th>Reaction Type</th>\n",
              "      <th>Datetime</th>\n",
              "      <th>Sentiment</th>\n",
              "      <th>Score</th>\n",
              "    </tr>\n",
              "  </thead>\n",
              "  <tbody>\n",
              "    <tr>\n",
              "      <th>0</th>\n",
              "      <td>97522e57-d9ab-4bd6-97bf-c24d952602d2</td>\n",
              "      <td>photo</td>\n",
              "      <td>Studying</td>\n",
              "      <td>disgust</td>\n",
              "      <td>11/7/2020 9:43</td>\n",
              "      <td>negative</td>\n",
              "      <td>0</td>\n",
              "    </tr>\n",
              "    <tr>\n",
              "      <th>1</th>\n",
              "      <td>97522e57-d9ab-4bd6-97bf-c24d952602d2</td>\n",
              "      <td>photo</td>\n",
              "      <td>Studying</td>\n",
              "      <td>disgust</td>\n",
              "      <td>1/6/2021 19:13</td>\n",
              "      <td>negative</td>\n",
              "      <td>0</td>\n",
              "    </tr>\n",
              "    <tr>\n",
              "      <th>2</th>\n",
              "      <td>97522e57-d9ab-4bd6-97bf-c24d952602d2</td>\n",
              "      <td>photo</td>\n",
              "      <td>Studying</td>\n",
              "      <td>disgust</td>\n",
              "      <td>4/9/2021 2:46</td>\n",
              "      <td>negative</td>\n",
              "      <td>0</td>\n",
              "    </tr>\n",
              "    <tr>\n",
              "      <th>3</th>\n",
              "      <td>9f737e0a-3cdd-4d29-9d24-753f4e3be810</td>\n",
              "      <td>photo</td>\n",
              "      <td>healthy eating</td>\n",
              "      <td>disgust</td>\n",
              "      <td>3/28/2021 21:15</td>\n",
              "      <td>negative</td>\n",
              "      <td>0</td>\n",
              "    </tr>\n",
              "    <tr>\n",
              "      <th>4</th>\n",
              "      <td>230c4e4d-70c3-461d-b42c-ec09396efb3f</td>\n",
              "      <td>photo</td>\n",
              "      <td>healthy eating</td>\n",
              "      <td>disgust</td>\n",
              "      <td>8/4/2020 5:40</td>\n",
              "      <td>negative</td>\n",
              "      <td>0</td>\n",
              "    </tr>\n",
              "    <tr>\n",
              "      <th>...</th>\n",
              "      <td>...</td>\n",
              "      <td>...</td>\n",
              "      <td>...</td>\n",
              "      <td>...</td>\n",
              "      <td>...</td>\n",
              "      <td>...</td>\n",
              "      <td>...</td>\n",
              "    </tr>\n",
              "    <tr>\n",
              "      <th>15247</th>\n",
              "      <td>c75dfa33-cd71-486f-b4e1-f5e9133ae873</td>\n",
              "      <td>photo</td>\n",
              "      <td>veganism</td>\n",
              "      <td>adore</td>\n",
              "      <td>1/12/2021 23:45</td>\n",
              "      <td>positive</td>\n",
              "      <td>72</td>\n",
              "    </tr>\n",
              "    <tr>\n",
              "      <th>15248</th>\n",
              "      <td>c75dfa33-cd71-486f-b4e1-f5e9133ae873</td>\n",
              "      <td>photo</td>\n",
              "      <td>veganism</td>\n",
              "      <td>adore</td>\n",
              "      <td>7/15/2020 9:49</td>\n",
              "      <td>positive</td>\n",
              "      <td>72</td>\n",
              "    </tr>\n",
              "    <tr>\n",
              "      <th>15249</th>\n",
              "      <td>40727608-362e-4e10-970f-2b5a5f8c37c1</td>\n",
              "      <td>photo</td>\n",
              "      <td>science</td>\n",
              "      <td>adore</td>\n",
              "      <td>12/15/2020 17:11</td>\n",
              "      <td>positive</td>\n",
              "      <td>72</td>\n",
              "    </tr>\n",
              "    <tr>\n",
              "      <th>15250</th>\n",
              "      <td>09f2e925-5086-42ad-8160-e763396a36ca</td>\n",
              "      <td>audio</td>\n",
              "      <td>dogs</td>\n",
              "      <td>adore</td>\n",
              "      <td>9/5/2020 5:03</td>\n",
              "      <td>positive</td>\n",
              "      <td>72</td>\n",
              "    </tr>\n",
              "    <tr>\n",
              "      <th>15251</th>\n",
              "      <td>09f2e925-5086-42ad-8160-e763396a36ca</td>\n",
              "      <td>audio</td>\n",
              "      <td>dogs</td>\n",
              "      <td>adore</td>\n",
              "      <td>9/7/2020 11:06</td>\n",
              "      <td>positive</td>\n",
              "      <td>72</td>\n",
              "    </tr>\n",
              "  </tbody>\n",
              "</table>\n",
              "<p>15252 rows × 7 columns</p>\n",
              "</div>\n",
              "      <button class=\"colab-df-convert\" onclick=\"convertToInteractive('df-99b76a75-dd5a-448b-a0cb-5c21cf684275')\"\n",
              "              title=\"Convert this dataframe to an interactive table.\"\n",
              "              style=\"display:none;\">\n",
              "        \n",
              "  <svg xmlns=\"http://www.w3.org/2000/svg\" height=\"24px\"viewBox=\"0 0 24 24\"\n",
              "       width=\"24px\">\n",
              "    <path d=\"M0 0h24v24H0V0z\" fill=\"none\"/>\n",
              "    <path d=\"M18.56 5.44l.94 2.06.94-2.06 2.06-.94-2.06-.94-.94-2.06-.94 2.06-2.06.94zm-11 1L8.5 8.5l.94-2.06 2.06-.94-2.06-.94L8.5 2.5l-.94 2.06-2.06.94zm10 10l.94 2.06.94-2.06 2.06-.94-2.06-.94-.94-2.06-.94 2.06-2.06.94z\"/><path d=\"M17.41 7.96l-1.37-1.37c-.4-.4-.92-.59-1.43-.59-.52 0-1.04.2-1.43.59L10.3 9.45l-7.72 7.72c-.78.78-.78 2.05 0 2.83L4 21.41c.39.39.9.59 1.41.59.51 0 1.02-.2 1.41-.59l7.78-7.78 2.81-2.81c.8-.78.8-2.07 0-2.86zM5.41 20L4 18.59l7.72-7.72 1.47 1.35L5.41 20z\"/>\n",
              "  </svg>\n",
              "      </button>\n",
              "      \n",
              "  <style>\n",
              "    .colab-df-container {\n",
              "      display:flex;\n",
              "      flex-wrap:wrap;\n",
              "      gap: 12px;\n",
              "    }\n",
              "\n",
              "    .colab-df-convert {\n",
              "      background-color: #E8F0FE;\n",
              "      border: none;\n",
              "      border-radius: 50%;\n",
              "      cursor: pointer;\n",
              "      display: none;\n",
              "      fill: #1967D2;\n",
              "      height: 32px;\n",
              "      padding: 0 0 0 0;\n",
              "      width: 32px;\n",
              "    }\n",
              "\n",
              "    .colab-df-convert:hover {\n",
              "      background-color: #E2EBFA;\n",
              "      box-shadow: 0px 1px 2px rgba(60, 64, 67, 0.3), 0px 1px 3px 1px rgba(60, 64, 67, 0.15);\n",
              "      fill: #174EA6;\n",
              "    }\n",
              "\n",
              "    [theme=dark] .colab-df-convert {\n",
              "      background-color: #3B4455;\n",
              "      fill: #D2E3FC;\n",
              "    }\n",
              "\n",
              "    [theme=dark] .colab-df-convert:hover {\n",
              "      background-color: #434B5C;\n",
              "      box-shadow: 0px 1px 3px 1px rgba(0, 0, 0, 0.15);\n",
              "      filter: drop-shadow(0px 1px 2px rgba(0, 0, 0, 0.3));\n",
              "      fill: #FFFFFF;\n",
              "    }\n",
              "  </style>\n",
              "\n",
              "      <script>\n",
              "        const buttonEl =\n",
              "          document.querySelector('#df-99b76a75-dd5a-448b-a0cb-5c21cf684275 button.colab-df-convert');\n",
              "        buttonEl.style.display =\n",
              "          google.colab.kernel.accessAllowed ? 'block' : 'none';\n",
              "\n",
              "        async function convertToInteractive(key) {\n",
              "          const element = document.querySelector('#df-99b76a75-dd5a-448b-a0cb-5c21cf684275');\n",
              "          const dataTable =\n",
              "            await google.colab.kernel.invokeFunction('convertToInteractive',\n",
              "                                                     [key], {});\n",
              "          if (!dataTable) return;\n",
              "\n",
              "          const docLinkHtml = 'Like what you see? Visit the ' +\n",
              "            '<a target=\"_blank\" href=https://colab.research.google.com/notebooks/data_table.ipynb>data table notebook</a>'\n",
              "            + ' to learn more about interactive tables.';\n",
              "          element.innerHTML = '';\n",
              "          dataTable['output_type'] = 'display_data';\n",
              "          await google.colab.output.renderOutput(dataTable, element);\n",
              "          const docLink = document.createElement('div');\n",
              "          docLink.innerHTML = docLinkHtml;\n",
              "          element.appendChild(docLink);\n",
              "        }\n",
              "      </script>\n",
              "    </div>\n",
              "  </div>\n",
              "  "
            ]
          },
          "metadata": {},
          "execution_count": 34
        }
      ]
    },
    {
      "cell_type": "code",
      "source": [
        "content['Category'].unique()"
      ],
      "metadata": {
        "colab": {
          "base_uri": "https://localhost:8080/"
        },
        "id": "K4PpOLF4UUtm",
        "outputId": "2aed1ad4-71b7-4485-e71b-7ff63dfa2dd1"
      },
      "execution_count": null,
      "outputs": [
        {
          "output_type": "execute_result",
          "data": {
            "text/plain": [
              "array(['Studying', 'healthy eating', 'technology', 'food', 'dogs',\n",
              "       'soccer', 'public speaking', 'tennis', 'travel', 'education',\n",
              "       'studying', 'science', 'veganism', 'cooking', 'animals', 'fitness',\n",
              "       'culture'], dtype=object)"
            ]
          },
          "metadata": {},
          "execution_count": 35
        }
      ]
    },
    {
      "cell_type": "code",
      "source": [
        "grouping = dataset.groupby(['Category'])"
      ],
      "metadata": {
        "id": "2dYdhxdTfkQ7"
      },
      "execution_count": null,
      "outputs": []
    },
    {
      "cell_type": "code",
      "source": [
        "dataset_new = grouping.sum()"
      ],
      "metadata": {
        "colab": {
          "base_uri": "https://localhost:8080/"
        },
        "id": "68uv7DH1fkNf",
        "outputId": "1caf0529-9e3f-48ed-c7db-1f04b2a00238"
      },
      "execution_count": null,
      "outputs": [
        {
          "output_type": "stream",
          "name": "stderr",
          "text": [
            "<ipython-input-37-733561fd02ad>:1: FutureWarning: The default value of numeric_only in DataFrameGroupBy.sum is deprecated. In a future version, numeric_only will default to False. Either specify numeric_only or select only columns which should be valid for the function.\n",
            "  dataset_new = grouping.sum()\n"
          ]
        }
      ]
    },
    {
      "cell_type": "code",
      "source": [
        "sorted_grouping = dataset_new.sort_values(by='Score', ascending=False)"
      ],
      "metadata": {
        "id": "DBAxGJ3zfkLv"
      },
      "execution_count": null,
      "outputs": []
    },
    {
      "cell_type": "code",
      "source": [
        "sorted_grouping"
      ],
      "metadata": {
        "colab": {
          "base_uri": "https://localhost:8080/",
          "height": 613
        },
        "id": "dZuS1LskDye8",
        "outputId": "a67f34d8-ac5c-4453-f2a3-d13208e3f4bd"
      },
      "execution_count": null,
      "outputs": [
        {
          "output_type": "execute_result",
          "data": {
            "text/plain": [
              "                 Score\n",
              "Category              \n",
              "travel           44555\n",
              "cooking          43331\n",
              "healthy eating   42292\n",
              "science          42184\n",
              "education        41634\n",
              "technology       40322\n",
              "animals          39529\n",
              "culture          38232\n",
              "food             37825\n",
              "tennis           37552\n",
              "dogs             37374\n",
              "soccer           35416\n",
              "fitness          34471\n",
              "public speaking  32825\n",
              "veganism         31945\n",
              "studying         27718\n",
              "Studying          1176"
            ],
            "text/html": [
              "\n",
              "  <div id=\"df-59df769d-4421-409d-8f32-015b880dd36e\">\n",
              "    <div class=\"colab-df-container\">\n",
              "      <div>\n",
              "<style scoped>\n",
              "    .dataframe tbody tr th:only-of-type {\n",
              "        vertical-align: middle;\n",
              "    }\n",
              "\n",
              "    .dataframe tbody tr th {\n",
              "        vertical-align: top;\n",
              "    }\n",
              "\n",
              "    .dataframe thead th {\n",
              "        text-align: right;\n",
              "    }\n",
              "</style>\n",
              "<table border=\"1\" class=\"dataframe\">\n",
              "  <thead>\n",
              "    <tr style=\"text-align: right;\">\n",
              "      <th></th>\n",
              "      <th>Score</th>\n",
              "    </tr>\n",
              "    <tr>\n",
              "      <th>Category</th>\n",
              "      <th></th>\n",
              "    </tr>\n",
              "  </thead>\n",
              "  <tbody>\n",
              "    <tr>\n",
              "      <th>travel</th>\n",
              "      <td>44555</td>\n",
              "    </tr>\n",
              "    <tr>\n",
              "      <th>cooking</th>\n",
              "      <td>43331</td>\n",
              "    </tr>\n",
              "    <tr>\n",
              "      <th>healthy eating</th>\n",
              "      <td>42292</td>\n",
              "    </tr>\n",
              "    <tr>\n",
              "      <th>science</th>\n",
              "      <td>42184</td>\n",
              "    </tr>\n",
              "    <tr>\n",
              "      <th>education</th>\n",
              "      <td>41634</td>\n",
              "    </tr>\n",
              "    <tr>\n",
              "      <th>technology</th>\n",
              "      <td>40322</td>\n",
              "    </tr>\n",
              "    <tr>\n",
              "      <th>animals</th>\n",
              "      <td>39529</td>\n",
              "    </tr>\n",
              "    <tr>\n",
              "      <th>culture</th>\n",
              "      <td>38232</td>\n",
              "    </tr>\n",
              "    <tr>\n",
              "      <th>food</th>\n",
              "      <td>37825</td>\n",
              "    </tr>\n",
              "    <tr>\n",
              "      <th>tennis</th>\n",
              "      <td>37552</td>\n",
              "    </tr>\n",
              "    <tr>\n",
              "      <th>dogs</th>\n",
              "      <td>37374</td>\n",
              "    </tr>\n",
              "    <tr>\n",
              "      <th>soccer</th>\n",
              "      <td>35416</td>\n",
              "    </tr>\n",
              "    <tr>\n",
              "      <th>fitness</th>\n",
              "      <td>34471</td>\n",
              "    </tr>\n",
              "    <tr>\n",
              "      <th>public speaking</th>\n",
              "      <td>32825</td>\n",
              "    </tr>\n",
              "    <tr>\n",
              "      <th>veganism</th>\n",
              "      <td>31945</td>\n",
              "    </tr>\n",
              "    <tr>\n",
              "      <th>studying</th>\n",
              "      <td>27718</td>\n",
              "    </tr>\n",
              "    <tr>\n",
              "      <th>Studying</th>\n",
              "      <td>1176</td>\n",
              "    </tr>\n",
              "  </tbody>\n",
              "</table>\n",
              "</div>\n",
              "      <button class=\"colab-df-convert\" onclick=\"convertToInteractive('df-59df769d-4421-409d-8f32-015b880dd36e')\"\n",
              "              title=\"Convert this dataframe to an interactive table.\"\n",
              "              style=\"display:none;\">\n",
              "        \n",
              "  <svg xmlns=\"http://www.w3.org/2000/svg\" height=\"24px\"viewBox=\"0 0 24 24\"\n",
              "       width=\"24px\">\n",
              "    <path d=\"M0 0h24v24H0V0z\" fill=\"none\"/>\n",
              "    <path d=\"M18.56 5.44l.94 2.06.94-2.06 2.06-.94-2.06-.94-.94-2.06-.94 2.06-2.06.94zm-11 1L8.5 8.5l.94-2.06 2.06-.94-2.06-.94L8.5 2.5l-.94 2.06-2.06.94zm10 10l.94 2.06.94-2.06 2.06-.94-2.06-.94-.94-2.06-.94 2.06-2.06.94z\"/><path d=\"M17.41 7.96l-1.37-1.37c-.4-.4-.92-.59-1.43-.59-.52 0-1.04.2-1.43.59L10.3 9.45l-7.72 7.72c-.78.78-.78 2.05 0 2.83L4 21.41c.39.39.9.59 1.41.59.51 0 1.02-.2 1.41-.59l7.78-7.78 2.81-2.81c.8-.78.8-2.07 0-2.86zM5.41 20L4 18.59l7.72-7.72 1.47 1.35L5.41 20z\"/>\n",
              "  </svg>\n",
              "      </button>\n",
              "      \n",
              "  <style>\n",
              "    .colab-df-container {\n",
              "      display:flex;\n",
              "      flex-wrap:wrap;\n",
              "      gap: 12px;\n",
              "    }\n",
              "\n",
              "    .colab-df-convert {\n",
              "      background-color: #E8F0FE;\n",
              "      border: none;\n",
              "      border-radius: 50%;\n",
              "      cursor: pointer;\n",
              "      display: none;\n",
              "      fill: #1967D2;\n",
              "      height: 32px;\n",
              "      padding: 0 0 0 0;\n",
              "      width: 32px;\n",
              "    }\n",
              "\n",
              "    .colab-df-convert:hover {\n",
              "      background-color: #E2EBFA;\n",
              "      box-shadow: 0px 1px 2px rgba(60, 64, 67, 0.3), 0px 1px 3px 1px rgba(60, 64, 67, 0.15);\n",
              "      fill: #174EA6;\n",
              "    }\n",
              "\n",
              "    [theme=dark] .colab-df-convert {\n",
              "      background-color: #3B4455;\n",
              "      fill: #D2E3FC;\n",
              "    }\n",
              "\n",
              "    [theme=dark] .colab-df-convert:hover {\n",
              "      background-color: #434B5C;\n",
              "      box-shadow: 0px 1px 3px 1px rgba(0, 0, 0, 0.15);\n",
              "      filter: drop-shadow(0px 1px 2px rgba(0, 0, 0, 0.3));\n",
              "      fill: #FFFFFF;\n",
              "    }\n",
              "  </style>\n",
              "\n",
              "      <script>\n",
              "        const buttonEl =\n",
              "          document.querySelector('#df-59df769d-4421-409d-8f32-015b880dd36e button.colab-df-convert');\n",
              "        buttonEl.style.display =\n",
              "          google.colab.kernel.accessAllowed ? 'block' : 'none';\n",
              "\n",
              "        async function convertToInteractive(key) {\n",
              "          const element = document.querySelector('#df-59df769d-4421-409d-8f32-015b880dd36e');\n",
              "          const dataTable =\n",
              "            await google.colab.kernel.invokeFunction('convertToInteractive',\n",
              "                                                     [key], {});\n",
              "          if (!dataTable) return;\n",
              "\n",
              "          const docLinkHtml = 'Like what you see? Visit the ' +\n",
              "            '<a target=\"_blank\" href=https://colab.research.google.com/notebooks/data_table.ipynb>data table notebook</a>'\n",
              "            + ' to learn more about interactive tables.';\n",
              "          element.innerHTML = '';\n",
              "          dataTable['output_type'] = 'display_data';\n",
              "          await google.colab.output.renderOutput(dataTable, element);\n",
              "          const docLink = document.createElement('div');\n",
              "          docLink.innerHTML = docLinkHtml;\n",
              "          element.appendChild(docLink);\n",
              "        }\n",
              "      </script>\n",
              "    </div>\n",
              "  </div>\n",
              "  "
            ]
          },
          "metadata": {},
          "execution_count": 61
        }
      ]
    },
    {
      "cell_type": "code",
      "source": [
        "top_5_categories = sorted_grouping.head(5)"
      ],
      "metadata": {
        "id": "eKLHPlvAnUAA"
      },
      "execution_count": null,
      "outputs": []
    },
    {
      "cell_type": "code",
      "source": [
        "top_5_categories"
      ],
      "metadata": {
        "colab": {
          "base_uri": "https://localhost:8080/",
          "height": 237
        },
        "id": "6q4tIvuQngo4",
        "outputId": "163bb86c-2104-42a6-dc10-7b0f373167a3"
      },
      "execution_count": null,
      "outputs": [
        {
          "output_type": "execute_result",
          "data": {
            "text/plain": [
              "                Score\n",
              "Category             \n",
              "travel          44555\n",
              "cooking         43331\n",
              "healthy eating  42292\n",
              "science         42184\n",
              "education       41634"
            ],
            "text/html": [
              "\n",
              "  <div id=\"df-26933d43-f997-44dd-a2c1-3c05cb7fec49\">\n",
              "    <div class=\"colab-df-container\">\n",
              "      <div>\n",
              "<style scoped>\n",
              "    .dataframe tbody tr th:only-of-type {\n",
              "        vertical-align: middle;\n",
              "    }\n",
              "\n",
              "    .dataframe tbody tr th {\n",
              "        vertical-align: top;\n",
              "    }\n",
              "\n",
              "    .dataframe thead th {\n",
              "        text-align: right;\n",
              "    }\n",
              "</style>\n",
              "<table border=\"1\" class=\"dataframe\">\n",
              "  <thead>\n",
              "    <tr style=\"text-align: right;\">\n",
              "      <th></th>\n",
              "      <th>Score</th>\n",
              "    </tr>\n",
              "    <tr>\n",
              "      <th>Category</th>\n",
              "      <th></th>\n",
              "    </tr>\n",
              "  </thead>\n",
              "  <tbody>\n",
              "    <tr>\n",
              "      <th>travel</th>\n",
              "      <td>44555</td>\n",
              "    </tr>\n",
              "    <tr>\n",
              "      <th>cooking</th>\n",
              "      <td>43331</td>\n",
              "    </tr>\n",
              "    <tr>\n",
              "      <th>healthy eating</th>\n",
              "      <td>42292</td>\n",
              "    </tr>\n",
              "    <tr>\n",
              "      <th>science</th>\n",
              "      <td>42184</td>\n",
              "    </tr>\n",
              "    <tr>\n",
              "      <th>education</th>\n",
              "      <td>41634</td>\n",
              "    </tr>\n",
              "  </tbody>\n",
              "</table>\n",
              "</div>\n",
              "      <button class=\"colab-df-convert\" onclick=\"convertToInteractive('df-26933d43-f997-44dd-a2c1-3c05cb7fec49')\"\n",
              "              title=\"Convert this dataframe to an interactive table.\"\n",
              "              style=\"display:none;\">\n",
              "        \n",
              "  <svg xmlns=\"http://www.w3.org/2000/svg\" height=\"24px\"viewBox=\"0 0 24 24\"\n",
              "       width=\"24px\">\n",
              "    <path d=\"M0 0h24v24H0V0z\" fill=\"none\"/>\n",
              "    <path d=\"M18.56 5.44l.94 2.06.94-2.06 2.06-.94-2.06-.94-.94-2.06-.94 2.06-2.06.94zm-11 1L8.5 8.5l.94-2.06 2.06-.94-2.06-.94L8.5 2.5l-.94 2.06-2.06.94zm10 10l.94 2.06.94-2.06 2.06-.94-2.06-.94-.94-2.06-.94 2.06-2.06.94z\"/><path d=\"M17.41 7.96l-1.37-1.37c-.4-.4-.92-.59-1.43-.59-.52 0-1.04.2-1.43.59L10.3 9.45l-7.72 7.72c-.78.78-.78 2.05 0 2.83L4 21.41c.39.39.9.59 1.41.59.51 0 1.02-.2 1.41-.59l7.78-7.78 2.81-2.81c.8-.78.8-2.07 0-2.86zM5.41 20L4 18.59l7.72-7.72 1.47 1.35L5.41 20z\"/>\n",
              "  </svg>\n",
              "      </button>\n",
              "      \n",
              "  <style>\n",
              "    .colab-df-container {\n",
              "      display:flex;\n",
              "      flex-wrap:wrap;\n",
              "      gap: 12px;\n",
              "    }\n",
              "\n",
              "    .colab-df-convert {\n",
              "      background-color: #E8F0FE;\n",
              "      border: none;\n",
              "      border-radius: 50%;\n",
              "      cursor: pointer;\n",
              "      display: none;\n",
              "      fill: #1967D2;\n",
              "      height: 32px;\n",
              "      padding: 0 0 0 0;\n",
              "      width: 32px;\n",
              "    }\n",
              "\n",
              "    .colab-df-convert:hover {\n",
              "      background-color: #E2EBFA;\n",
              "      box-shadow: 0px 1px 2px rgba(60, 64, 67, 0.3), 0px 1px 3px 1px rgba(60, 64, 67, 0.15);\n",
              "      fill: #174EA6;\n",
              "    }\n",
              "\n",
              "    [theme=dark] .colab-df-convert {\n",
              "      background-color: #3B4455;\n",
              "      fill: #D2E3FC;\n",
              "    }\n",
              "\n",
              "    [theme=dark] .colab-df-convert:hover {\n",
              "      background-color: #434B5C;\n",
              "      box-shadow: 0px 1px 3px 1px rgba(0, 0, 0, 0.15);\n",
              "      filter: drop-shadow(0px 1px 2px rgba(0, 0, 0, 0.3));\n",
              "      fill: #FFFFFF;\n",
              "    }\n",
              "  </style>\n",
              "\n",
              "      <script>\n",
              "        const buttonEl =\n",
              "          document.querySelector('#df-26933d43-f997-44dd-a2c1-3c05cb7fec49 button.colab-df-convert');\n",
              "        buttonEl.style.display =\n",
              "          google.colab.kernel.accessAllowed ? 'block' : 'none';\n",
              "\n",
              "        async function convertToInteractive(key) {\n",
              "          const element = document.querySelector('#df-26933d43-f997-44dd-a2c1-3c05cb7fec49');\n",
              "          const dataTable =\n",
              "            await google.colab.kernel.invokeFunction('convertToInteractive',\n",
              "                                                     [key], {});\n",
              "          if (!dataTable) return;\n",
              "\n",
              "          const docLinkHtml = 'Like what you see? Visit the ' +\n",
              "            '<a target=\"_blank\" href=https://colab.research.google.com/notebooks/data_table.ipynb>data table notebook</a>'\n",
              "            + ' to learn more about interactive tables.';\n",
              "          element.innerHTML = '';\n",
              "          dataTable['output_type'] = 'display_data';\n",
              "          await google.colab.output.renderOutput(dataTable, element);\n",
              "          const docLink = document.createElement('div');\n",
              "          docLink.innerHTML = docLinkHtml;\n",
              "          element.appendChild(docLink);\n",
              "        }\n",
              "      </script>\n",
              "    </div>\n",
              "  </div>\n",
              "  "
            ]
          },
          "metadata": {},
          "execution_count": 63
        }
      ]
    },
    {
      "cell_type": "code",
      "source": [
        "travel_posts = dataset[dataset['Category'] == 'travel']"
      ],
      "metadata": {
        "id": "B_CY-3Sfa8eU"
      },
      "execution_count": null,
      "outputs": []
    },
    {
      "cell_type": "code",
      "source": [
        "cooking_posts = dataset[dataset['Category'] == 'cooking']"
      ],
      "metadata": {
        "id": "or7QRSLR-S-D"
      },
      "execution_count": null,
      "outputs": []
    },
    {
      "cell_type": "code",
      "source": [
        "healthy_eating_posts = dataset[dataset['Category'] == 'healthy eating']"
      ],
      "metadata": {
        "id": "zYO_rceN-qBE"
      },
      "execution_count": null,
      "outputs": []
    },
    {
      "cell_type": "code",
      "source": [
        "science_posts = dataset[dataset['Category'] == 'science']"
      ],
      "metadata": {
        "id": "JhlFAoYp-p7r"
      },
      "execution_count": null,
      "outputs": []
    },
    {
      "cell_type": "code",
      "source": [
        "education_posts = dataset[dataset['Category'] == 'education']"
      ],
      "metadata": {
        "id": "IKynrP9h-p0i"
      },
      "execution_count": null,
      "outputs": []
    },
    {
      "cell_type": "code",
      "source": [
        "total_popular_category_posts = top_5_categories.shape[0]"
      ],
      "metadata": {
        "id": "6YxzWou4_MOz"
      },
      "execution_count": null,
      "outputs": []
    },
    {
      "cell_type": "code",
      "source": [
        "total_popular_category_posts"
      ],
      "metadata": {
        "colab": {
          "base_uri": "https://localhost:8080/"
        },
        "id": "1kk3IVr1_lek",
        "outputId": "d2d8fc1f-cb7a-4139-d9fd-9b80f3158fb8"
      },
      "execution_count": null,
      "outputs": [
        {
          "output_type": "execute_result",
          "data": {
            "text/plain": [
              "5"
            ]
          },
          "metadata": {},
          "execution_count": 60
        }
      ]
    },
    {
      "cell_type": "code",
      "source": [
        "travel_posts = travel_posts.shape[0]"
      ],
      "metadata": {
        "id": "4vaAhP9tbyZZ"
      },
      "execution_count": null,
      "outputs": []
    },
    {
      "cell_type": "code",
      "source": [
        "total_posts = dataset.shape[0]"
      ],
      "metadata": {
        "id": "4g274yul9Q2p"
      },
      "execution_count": null,
      "outputs": []
    },
    {
      "cell_type": "code",
      "source": [
        "percent_travel = (travel_posts/ total_popular_category_posts)* 100\n",
        "print(f'Travel makes {percent_travel} % of the total posts')"
      ],
      "metadata": {
        "colab": {
          "base_uri": "https://localhost:8080/"
        },
        "id": "FnhJRM1T9Qud",
        "outputId": "1c96ac85-4f15-416f-c40b-0260ad440655"
      },
      "execution_count": null,
      "outputs": [
        {
          "output_type": "stream",
          "name": "stdout",
          "text": [
            "Travel makes 22800.0 % of the total posts\n"
          ]
        }
      ]
    },
    {
      "cell_type": "code",
      "source": [],
      "metadata": {
        "id": "xzbznq9D9QfZ"
      },
      "execution_count": null,
      "outputs": []
    },
    {
      "cell_type": "code",
      "source": [
        "content.to_csv('content.csv')\n",
        "reaction_types.to_csv('reaction_types.csv')\n",
        "reaction.to_csv('reaction.csv')"
      ],
      "metadata": {
        "id": "BHWI8bQXrRWR"
      },
      "execution_count": null,
      "outputs": []
    },
    {
      "cell_type": "code",
      "source": [
        "dataset.to_csv('dataset.csv')\n",
        "top_5_categories.to_csv('top_5_categories.csv')"
      ],
      "metadata": {
        "id": "bUdosREftMET"
      },
      "execution_count": null,
      "outputs": []
    },
    {
      "cell_type": "code",
      "source": [
        "top_5_categories.to_csv('top_5_categories.csv')"
      ],
      "metadata": {
        "id": "2q-6iFiupEzW"
      },
      "execution_count": null,
      "outputs": []
    },
    {
      "cell_type": "code",
      "source": [],
      "metadata": {
        "id": "3Og0rYdQM8Yy"
      },
      "execution_count": null,
      "outputs": []
    }
  ]
}